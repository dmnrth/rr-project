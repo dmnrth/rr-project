{
 "cells": [
  {
   "cell_type": "code",
   "execution_count": 1,
   "metadata": {},
   "outputs": [],
   "source": [
    "import pandas as pd\n",
    "import numpy as np\n",
    "from rds2py import read_rds\n",
    "from datetime import datetime\n",
    "import os"
   ]
  },
  {
   "cell_type": "markdown",
   "metadata": {},
   "source": [
    "# Read Files"
   ]
  },
  {
   "cell_type": "code",
   "execution_count": 2,
   "metadata": {},
   "outputs": [],
   "source": [
    "# # ARIMA Base Case\n",
    "# ARIMA_BASE_CASE_DRIECTORY = './output/arima_base_case/arima_base_case_merged.rds'\n",
    "# ARIMA_BS_r_obj = read_rds(ARIMA_BASE_CASE_DRIECTORY)\n",
    "# ARIMA_BS_index_r_obj = ARIMA_BS_r_obj['attributes']['index']['data']\n",
    "# ARIMA_timestamp_index_r_obj = [datetime.utcfromtimestamp(i).strftime('%Y-%m-%d') for i in ARIMA_BS_index_r_obj]\n",
    "# ARIMA_data_r_obj = ARIMA_BS_r_obj['data']\n",
    "# df_ARIMA_forecast = pd.DataFrame(data={'Forecast': ARIMA_data_r_obj}, index=ARIMA_timestamp_index_r_obj)\n",
    "\n",
    "# # ARIMA-GARCH Base Case\n",
    "# ARIMA_GARCH_BASE_CASE_DIRECTORY = './output/arima-garch_base_case/arima-garch_base_case_merged.rds'\n",
    "# ARIMA_GARCH_BS_r_obj = read_rds(ARIMA_GARCH_BASE_CASE_DIRECTORY)\n",
    "# ARIMA_GARCH_BS_index_r_obj = ARIMA_GARCH_BS_r_obj['attributes']['index']['data']\n",
    "# ARIMA_GARCH_timestamp_index_r_obj = [datetime.utcfromtimestamp(i).strftime('%Y-%m-%d') for i in ARIMA_GARCH_BS_index_r_obj]\n",
    "# ARIMA_GARCH_data_r_obj = ARIMA_GARCH_BS_r_obj['data']\n",
    "# df_ARIMA_GARCH_forecast = pd.DataFrame(data={'Forecast': ARIMA_GARCH_data_r_obj}, index=ARIMA_GARCH_timestamp_index_r_obj)"
   ]
  },
  {
   "cell_type": "code",
   "execution_count": 3,
   "metadata": {},
   "outputs": [],
   "source": [
    "# Error Metrics:\n",
    "# - MAE\n",
    "# - MSE\n",
    "# - RMSE\n",
    "# - MAPE\n",
    "\n",
    "# Performance Statistics\n",
    "# - ARC\n",
    "# - ASD\n",
    "# - MD\n",
    "# - IR\n",
    "# - IR*"
   ]
  },
  {
   "cell_type": "code",
   "execution_count": 4,
   "metadata": {},
   "outputs": [],
   "source": [
    "OUTPUT_DIRECTORY = './output'\n",
    "FORECASTS_BC_SA = {}\n",
    "\n",
    "for file in os.listdir(OUTPUT_DIRECTORY):\n",
    "    if not file.startswith('.'):\n",
    "        # if not file in ['arima_base_case', 'arima-garch_base_case']:\n",
    "            \n",
    "        all_forecasts = []\n",
    "        for file_in_dir in os.listdir(os.path.join(OUTPUT_DIRECTORY, file)):\n",
    "            if not file_in_dir.startswith('.'):\n",
    "\n",
    "                path = os.path.join(OUTPUT_DIRECTORY, file, file_in_dir)\n",
    "                r_obj = read_rds(path)\n",
    "\n",
    "                index_r_obj = r_obj['attributes']['index']['data']\n",
    "                timestamp_index_r_obj = [datetime.utcfromtimestamp(i).strftime('%Y-%m-%d') for i in index_r_obj]\n",
    "                data_r_obj = r_obj['data']\n",
    "\n",
    "                df_forecast = pd.DataFrame(data={'Forecast': data_r_obj}, index=timestamp_index_r_obj)\n",
    "                all_forecasts.append(df_forecast)\n",
    "        \n",
    "        df_all_forecasts = pd.concat(all_forecasts).sort_index()\n",
    "        FORECASTS_BC_SA[file] = df_all_forecasts"
   ]
  },
  {
   "cell_type": "code",
   "execution_count": 5,
   "metadata": {},
   "outputs": [
    {
     "data": {
      "text/html": [
       "<div>\n",
       "<style scoped>\n",
       "    .dataframe tbody tr th:only-of-type {\n",
       "        vertical-align: middle;\n",
       "    }\n",
       "\n",
       "    .dataframe tbody tr th {\n",
       "        vertical-align: top;\n",
       "    }\n",
       "\n",
       "    .dataframe thead th {\n",
       "        text-align: right;\n",
       "    }\n",
       "</style>\n",
       "<table border=\"1\" class=\"dataframe\">\n",
       "  <thead>\n",
       "    <tr style=\"text-align: right;\">\n",
       "      <th></th>\n",
       "      <th>Forecast</th>\n",
       "    </tr>\n",
       "  </thead>\n",
       "  <tbody>\n",
       "    <tr>\n",
       "      <th>2005-12-20</th>\n",
       "      <td>0.000431</td>\n",
       "    </tr>\n",
       "    <tr>\n",
       "      <th>2005-12-21</th>\n",
       "      <td>0.001450</td>\n",
       "    </tr>\n",
       "    <tr>\n",
       "      <th>2005-12-22</th>\n",
       "      <td>-0.002749</td>\n",
       "    </tr>\n",
       "    <tr>\n",
       "      <th>2005-12-23</th>\n",
       "      <td>0.001866</td>\n",
       "    </tr>\n",
       "    <tr>\n",
       "      <th>2005-12-27</th>\n",
       "      <td>-0.001699</td>\n",
       "    </tr>\n",
       "    <tr>\n",
       "      <th>...</th>\n",
       "      <td>...</td>\n",
       "    </tr>\n",
       "    <tr>\n",
       "      <th>2019-12-23</th>\n",
       "      <td>0.001588</td>\n",
       "    </tr>\n",
       "    <tr>\n",
       "      <th>2019-12-24</th>\n",
       "      <td>0.000401</td>\n",
       "    </tr>\n",
       "    <tr>\n",
       "      <th>2019-12-26</th>\n",
       "      <td>-0.000647</td>\n",
       "    </tr>\n",
       "    <tr>\n",
       "      <th>2019-12-27</th>\n",
       "      <td>-0.000752</td>\n",
       "    </tr>\n",
       "    <tr>\n",
       "      <th>2019-12-30</th>\n",
       "      <td>0.000788</td>\n",
       "    </tr>\n",
       "  </tbody>\n",
       "</table>\n",
       "<p>3530 rows × 1 columns</p>\n",
       "</div>"
      ],
      "text/plain": [
       "            Forecast\n",
       "2005-12-20  0.000431\n",
       "2005-12-21  0.001450\n",
       "2005-12-22 -0.002749\n",
       "2005-12-23  0.001866\n",
       "2005-12-27 -0.001699\n",
       "...              ...\n",
       "2019-12-23  0.001588\n",
       "2019-12-24  0.000401\n",
       "2019-12-26 -0.000647\n",
       "2019-12-27 -0.000752\n",
       "2019-12-30  0.000788\n",
       "\n",
       "[3530 rows x 1 columns]"
      ]
     },
     "execution_count": 5,
     "metadata": {},
     "output_type": "execute_result"
    }
   ],
   "source": [
    "FORECASTS_BC_SA['arima_base_case']"
   ]
  }
 ],
 "metadata": {
  "kernelspec": {
   "display_name": "Algo_ml_in_finance_1",
   "language": "python",
   "name": "python3"
  },
  "language_info": {
   "codemirror_mode": {
    "name": "ipython",
    "version": 3
   },
   "file_extension": ".py",
   "mimetype": "text/x-python",
   "name": "python",
   "nbconvert_exporter": "python",
   "pygments_lexer": "ipython3",
   "version": "3.10.14"
  }
 },
 "nbformat": 4,
 "nbformat_minor": 2
}
