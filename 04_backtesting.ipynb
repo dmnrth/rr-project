{
 "cells": [
  {
   "cell_type": "code",
   "execution_count": 1,
   "metadata": {},
   "outputs": [],
   "source": [
    "from functions.backtesting_functions import *"
   ]
  },
  {
   "cell_type": "markdown",
   "metadata": {},
   "source": [
    "# Read Files"
   ]
  },
  {
   "cell_type": "code",
   "execution_count": 2,
   "metadata": {},
   "outputs": [],
   "source": [
    "INPUT_DIRECTORY = './input/sp500_log_returns.rds'\n",
    "\n",
    "SnP500_lr_r_obj = read_rds(INPUT_DIRECTORY)\n",
    "SnP500_lr_index_r_obj = SnP500_lr_r_obj['attributes']['index']['data']\n",
    "SnP500_lr_timestamp_index_r_obj = [datetime.utcfromtimestamp(i).strftime('%Y-%m-%d') for i in SnP500_lr_index_r_obj]\n",
    "SnP500_lr__data_r_obj = SnP500_lr_r_obj['data']\n",
    "df_SnP500_lr = pd.DataFrame(data={'Forecast': SnP500_lr__data_r_obj}, index=SnP500_lr_timestamp_index_r_obj)\n"
   ]
  },
  {
   "cell_type": "code",
   "execution_count": 3,
   "metadata": {},
   "outputs": [],
   "source": [
    "OUTPUT_DIRECTORY = './output'\n",
    "FORECASTS_BC_SA = {}\n",
    "\n",
    "for file in os.listdir(OUTPUT_DIRECTORY):\n",
    "    if not file.startswith('.'):\n",
    "                    \n",
    "        all_forecasts = []\n",
    "        for file_in_dir in os.listdir(os.path.join(OUTPUT_DIRECTORY, file)):\n",
    "            if not file_in_dir.startswith('.'):\n",
    "\n",
    "                path = os.path.join(OUTPUT_DIRECTORY, file, file_in_dir)\n",
    "                r_obj = read_rds(path)\n",
    "\n",
    "                index_r_obj = r_obj['attributes']['index']['data']\n",
    "                timestamp_index_r_obj = [datetime.utcfromtimestamp(i).strftime('%Y-%m-%d') for i in index_r_obj]\n",
    "                data_r_obj = r_obj['data']\n",
    "\n",
    "                df_forecast = pd.DataFrame(data={'Forecast': data_r_obj}, index=timestamp_index_r_obj)\n",
    "                all_forecasts.append(df_forecast)\n",
    "        \n",
    "        df_all_forecasts = pd.concat(all_forecasts).sort_index()\n",
    "        FORECASTS_BC_SA[file] = df_all_forecasts"
   ]
  },
  {
   "cell_type": "code",
   "execution_count": 4,
   "metadata": {},
   "outputs": [
    {
     "data": {
      "text/plain": [
       "dict_keys(['arima_base_case', 'arima-egarch_ged_1000', 'arima-garch_base_case'])"
      ]
     },
     "execution_count": 4,
     "metadata": {},
     "output_type": "execute_result"
    }
   ],
   "source": [
    "FORECASTS_BC_SA.keys()"
   ]
  },
  {
   "cell_type": "markdown",
   "metadata": {},
   "source": [
    "### Case 1: ARIMA(p,1,q) 1000 and ARIMA(p,1,q)-SGARCH(1,1) 1000 (Base Case)"
   ]
  },
  {
   "cell_type": "code",
   "execution_count": 5,
   "metadata": {},
   "outputs": [],
   "source": [
    "def cases_df(FORECASTS_BC_SA, df_SnP500_lr, case_1):\n",
    "    df_case_strat = pd.DataFrame(columns=case_1, index=FORECASTS_BC_SA['arima-garch_base_case'].index)\n",
    "\n",
    "    for strat in case_1:\n",
    "\n",
    "        res = pd.DataFrame()\n",
    "\n",
    "        res['forecast'] = FORECASTS_BC_SA[strat]\n",
    "        res['SnP500_lr'] = df_SnP500_lr.loc[FORECASTS_BC_SA['arima-garch_base_case'].index]\n",
    "        res['SnP500_lr'] = np.exp(res['SnP500_lr'])-1 # converting to simple returns\n",
    "\n",
    "        res = get_position(res)\n",
    "\n",
    "        # calculating equity line\n",
    "\n",
    "        strategy = (res['SnP500_lr'] * res['position'].shift(1))\n",
    "        strategy = (1+strategy.fillna(0)).cumprod()\n",
    "\n",
    "        df_case_strat[strat] = strategy\n",
    "        df_case_strat[f'{strat}_forecast'] = res['forecast']\n",
    "\n",
    "    df_case_strat['buy_n_hold'] = (1 + res['SnP500_lr'].fillna(0)).cumprod()\n",
    "    df_case_strat['buy_n_hold_forecast'] = res['SnP500_lr']\n",
    "\n",
    "    case_1.append('buy_n_hold')\n",
    "\n",
    "    return df_case_strat, case_1"
   ]
  },
  {
   "cell_type": "code",
   "execution_count": 6,
   "metadata": {},
   "outputs": [],
   "source": [
    "case_1 = ['arima_base_case', 'arima-garch_base_case']\n",
    "df_case_strat_case_1, case_1 = cases_df(FORECASTS_BC_SA, df_SnP500_lr, case_1)"
   ]
  },
  {
   "cell_type": "code",
   "execution_count": 7,
   "metadata": {},
   "outputs": [
    {
     "name": "stderr",
     "output_type": "stream",
     "text": [
      "/Users/kamilkashif/Documents/Python/rr-project/functions/backtesting_functions.py:51: RuntimeWarning: divide by zero encountered in divide\n",
      "  return np.mean(np.abs((y_true - y_pred) / y_true)) * 100\n",
      "/Users/kamilkashif/Documents/Python/rr-project/functions/backtesting_functions.py:51: RuntimeWarning: divide by zero encountered in divide\n",
      "  return np.mean(np.abs((y_true - y_pred) / y_true)) * 100\n"
     ]
    },
    {
     "data": {
      "text/html": [
       "<div>\n",
       "<style scoped>\n",
       "    .dataframe tbody tr th:only-of-type {\n",
       "        vertical-align: middle;\n",
       "    }\n",
       "\n",
       "    .dataframe tbody tr th {\n",
       "        vertical-align: top;\n",
       "    }\n",
       "\n",
       "    .dataframe thead th {\n",
       "        text-align: right;\n",
       "    }\n",
       "</style>\n",
       "<table border=\"1\" class=\"dataframe\">\n",
       "  <thead>\n",
       "    <tr style=\"text-align: right;\">\n",
       "      <th></th>\n",
       "      <th></th>\n",
       "      <th>MAE</th>\n",
       "      <th>MSE</th>\n",
       "      <th>RMSE</th>\n",
       "      <th>MAPE</th>\n",
       "      <th>ARC(%)</th>\n",
       "      <th>ASD(%)</th>\n",
       "      <th>MD</th>\n",
       "      <th>IR*(%)</th>\n",
       "      <th>IR**(%)</th>\n",
       "    </tr>\n",
       "  </thead>\n",
       "  <tbody>\n",
       "    <tr>\n",
       "      <th></th>\n",
       "      <td>S&amp;P 500</td>\n",
       "      <td>None</td>\n",
       "      <td>None</td>\n",
       "      <td>None</td>\n",
       "      <td>None</td>\n",
       "      <td>6.48</td>\n",
       "      <td>18.77</td>\n",
       "      <td>55.76</td>\n",
       "      <td>34.52</td>\n",
       "      <td>4.01</td>\n",
       "    </tr>\n",
       "    <tr>\n",
       "      <th></th>\n",
       "      <td>arima_base_case</td>\n",
       "      <td>7.72e-03</td>\n",
       "      <td>1.47e-04</td>\n",
       "      <td>1.21e-02</td>\n",
       "      <td>inf</td>\n",
       "      <td>-4.51</td>\n",
       "      <td>13.97</td>\n",
       "      <td>58.26</td>\n",
       "      <td>-32.28</td>\n",
       "      <td>-2.50</td>\n",
       "    </tr>\n",
       "    <tr>\n",
       "      <th></th>\n",
       "      <td>arima-garch_base_case</td>\n",
       "      <td>2.11e+138</td>\n",
       "      <td>1.54e+280</td>\n",
       "      <td>1.24e+140</td>\n",
       "      <td>inf</td>\n",
       "      <td>-0.36</td>\n",
       "      <td>10.66</td>\n",
       "      <td>42.37</td>\n",
       "      <td>-3.42</td>\n",
       "      <td>-0.03</td>\n",
       "    </tr>\n",
       "  </tbody>\n",
       "</table>\n",
       "</div>"
      ],
      "text/plain": [
       "                               MAE        MSE       RMSE  MAPE  ARC(%)  \\\n",
       "                S&P 500       None       None       None  None    6.48   \n",
       "        arima_base_case   7.72e-03   1.47e-04   1.21e-02   inf   -4.51   \n",
       "  arima-garch_base_case  2.11e+138  1.54e+280  1.24e+140   inf   -0.36   \n",
       "\n",
       "  ASD(%)     MD  IR*(%)  IR**(%)  \n",
       "   18.77  55.76   34.52     4.01  \n",
       "   13.97  58.26  -32.28    -2.50  \n",
       "   10.66  42.37   -3.42    -0.03  "
      ]
     },
     "execution_count": 7,
     "metadata": {},
     "output_type": "execute_result"
    }
   ],
   "source": [
    "performance_metrics_case_1(case_1[0], case_1[1], df_case_strat_case_1, case_1)"
   ]
  },
  {
   "cell_type": "code",
   "execution_count": null,
   "metadata": {},
   "outputs": [],
   "source": []
  },
  {
   "cell_type": "markdown",
   "metadata": {},
   "source": [
    "### Case 2: ARIMA(p,1,q) 1000 and ARIMA(p,1,q)-SGARCH(1,1) 1000 and ARIMA(p,1,q)-EGARCH(1,1) 1000"
   ]
  },
  {
   "cell_type": "code",
   "execution_count": 8,
   "metadata": {},
   "outputs": [],
   "source": [
    "case_2 = ['arima_base_case', 'arima-garch_base_case', 'arima-egarch_ged_1000']\n",
    "df_case_strat_case_2, case_2 = cases_df(FORECASTS_BC_SA, df_SnP500_lr, case_2)"
   ]
  },
  {
   "cell_type": "code",
   "execution_count": 9,
   "metadata": {},
   "outputs": [
    {
     "name": "stderr",
     "output_type": "stream",
     "text": [
      "/Users/kamilkashif/Documents/Python/rr-project/functions/backtesting_functions.py:51: RuntimeWarning: divide by zero encountered in divide\n",
      "  return np.mean(np.abs((y_true - y_pred) / y_true)) * 100\n",
      "/Users/kamilkashif/Documents/Python/rr-project/functions/backtesting_functions.py:51: RuntimeWarning: divide by zero encountered in divide\n",
      "  return np.mean(np.abs((y_true - y_pred) / y_true)) * 100\n",
      "/Users/kamilkashif/Documents/Python/rr-project/functions/backtesting_functions.py:51: RuntimeWarning: divide by zero encountered in divide\n",
      "  return np.mean(np.abs((y_true - y_pred) / y_true)) * 100\n"
     ]
    },
    {
     "data": {
      "text/html": [
       "<div>\n",
       "<style scoped>\n",
       "    .dataframe tbody tr th:only-of-type {\n",
       "        vertical-align: middle;\n",
       "    }\n",
       "\n",
       "    .dataframe tbody tr th {\n",
       "        vertical-align: top;\n",
       "    }\n",
       "\n",
       "    .dataframe thead th {\n",
       "        text-align: right;\n",
       "    }\n",
       "</style>\n",
       "<table border=\"1\" class=\"dataframe\">\n",
       "  <thead>\n",
       "    <tr style=\"text-align: right;\">\n",
       "      <th></th>\n",
       "      <th></th>\n",
       "      <th>MAE</th>\n",
       "      <th>MSE</th>\n",
       "      <th>RMSE</th>\n",
       "      <th>MAPE</th>\n",
       "      <th>ARC(%)</th>\n",
       "      <th>ASD(%)</th>\n",
       "      <th>MD</th>\n",
       "      <th>IR*(%)</th>\n",
       "      <th>IR**(%)</th>\n",
       "    </tr>\n",
       "  </thead>\n",
       "  <tbody>\n",
       "    <tr>\n",
       "      <th></th>\n",
       "      <td>S&amp;P 500</td>\n",
       "      <td>None</td>\n",
       "      <td>None</td>\n",
       "      <td>None</td>\n",
       "      <td>None</td>\n",
       "      <td>6.48</td>\n",
       "      <td>18.77</td>\n",
       "      <td>55.76</td>\n",
       "      <td>34.52</td>\n",
       "      <td>4.01</td>\n",
       "    </tr>\n",
       "    <tr>\n",
       "      <th></th>\n",
       "      <td>arima_base_case</td>\n",
       "      <td>7.72e-03</td>\n",
       "      <td>1.47e-04</td>\n",
       "      <td>1.21e-02</td>\n",
       "      <td>inf</td>\n",
       "      <td>-4.51</td>\n",
       "      <td>13.97</td>\n",
       "      <td>58.26</td>\n",
       "      <td>-32.28</td>\n",
       "      <td>-2.50</td>\n",
       "    </tr>\n",
       "    <tr>\n",
       "      <th></th>\n",
       "      <td>arima-garch_base_case</td>\n",
       "      <td>2.11e+138</td>\n",
       "      <td>1.54e+280</td>\n",
       "      <td>1.24e+140</td>\n",
       "      <td>inf</td>\n",
       "      <td>-0.36</td>\n",
       "      <td>10.66</td>\n",
       "      <td>42.37</td>\n",
       "      <td>-3.42</td>\n",
       "      <td>-0.03</td>\n",
       "    </tr>\n",
       "    <tr>\n",
       "      <th></th>\n",
       "      <td>arima-egarch_ged_1000</td>\n",
       "      <td>7.57e-03</td>\n",
       "      <td>1.42e-04</td>\n",
       "      <td>1.19e-02</td>\n",
       "      <td>inf</td>\n",
       "      <td>1.32</td>\n",
       "      <td>12.62</td>\n",
       "      <td>33.12</td>\n",
       "      <td>10.42</td>\n",
       "      <td>0.41</td>\n",
       "    </tr>\n",
       "  </tbody>\n",
       "</table>\n",
       "</div>"
      ],
      "text/plain": [
       "                               MAE        MSE       RMSE  MAPE  ARC(%)  \\\n",
       "                S&P 500       None       None       None  None    6.48   \n",
       "        arima_base_case   7.72e-03   1.47e-04   1.21e-02   inf   -4.51   \n",
       "  arima-garch_base_case  2.11e+138  1.54e+280  1.24e+140   inf   -0.36   \n",
       "  arima-egarch_ged_1000   7.57e-03   1.42e-04   1.19e-02   inf    1.32   \n",
       "\n",
       "  ASD(%)     MD  IR*(%)  IR**(%)  \n",
       "   18.77  55.76   34.52     4.01  \n",
       "   13.97  58.26  -32.28    -2.50  \n",
       "   10.66  42.37   -3.42    -0.03  \n",
       "   12.62  33.12   10.42     0.41  "
      ]
     },
     "execution_count": 9,
     "metadata": {},
     "output_type": "execute_result"
    }
   ],
   "source": [
    "performance_metrics_case_2(case_2[0], case_2[1], case_2[2], df_case_strat_case_2, case_2)"
   ]
  },
  {
   "cell_type": "markdown",
   "metadata": {},
   "source": [
    "### Case 3: ARIMA(p,1,q) 500 and ARIMA(p,1,q)-SGARCH(1,1) 500 / ARIMA(p,1,q) 1000 and ARIMA(p,1,q)-SGARCH(1,1) 1000 / ARIMA(p,1,q) 1500 and ARIMA(p,1,q)-SGARCH(1,1) 1500"
   ]
  },
  {
   "cell_type": "code",
   "execution_count": 10,
   "metadata": {},
   "outputs": [],
   "source": [
    "case_3 = ['arima_base_case', 'arima-garch_base_case', 'arima-egarch_ged_1000']"
   ]
  },
  {
   "cell_type": "markdown",
   "metadata": {},
   "source": [
    "### Case 4: ARIMA 1000 and SGARCH.GED 1000 and SGARCH.SNORM 1000 and SGARCH.SSTD 1000 and SGARCH.SGED 1000"
   ]
  },
  {
   "cell_type": "code",
   "execution_count": 11,
   "metadata": {},
   "outputs": [],
   "source": [
    "case_4 = ['arima_base_case', 'arima-garch_base_case', 'arima-egarch_ged_1000']"
   ]
  },
  {
   "cell_type": "code",
   "execution_count": 12,
   "metadata": {},
   "outputs": [],
   "source": [
    "# In general, the rule for going long (buy) or short (sell) is as follows: \n",
    "# if the forecasted log return is positive at time t + 1, we go long (buy stocks) at time t (direction would be +1); \n",
    "# if the forecasted log return is negative at time t + 1, we go short (sell stocks) at time t (direction would be −1); \n",
    "# and if the forecasted direction at time t+1 is the same as at time t, then there are no changes.\n",
    "\n",
    "# The initial investment is assumed to be $1259.92 at the beginning."
   ]
  },
  {
   "cell_type": "code",
   "execution_count": 13,
   "metadata": {},
   "outputs": [],
   "source": [
    "# Add cases\n",
    "# Check why strange results\n",
    "# Add R ggplot graph code"
   ]
  }
 ],
 "metadata": {
  "kernelspec": {
   "display_name": "Algo_ml_in_finance_1",
   "language": "python",
   "name": "python3"
  },
  "language_info": {
   "codemirror_mode": {
    "name": "ipython",
    "version": 3
   },
   "file_extension": ".py",
   "mimetype": "text/x-python",
   "name": "python",
   "nbconvert_exporter": "python",
   "pygments_lexer": "ipython3",
   "version": "3.10.14"
  }
 },
 "nbformat": 4,
 "nbformat_minor": 2
}
