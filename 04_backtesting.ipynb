{
 "cells": [
  {
   "cell_type": "code",
   "execution_count": 1,
   "metadata": {},
   "outputs": [],
   "source": [
    "from functions.backtesting_functions import *"
   ]
  },
  {
   "cell_type": "markdown",
   "metadata": {},
   "source": [
    "# Read Files"
   ]
  },
  {
   "cell_type": "code",
   "execution_count": 2,
   "metadata": {},
   "outputs": [],
   "source": [
    "INPUT_DIRECTORY = './input/sp500_log_returns.rds'\n",
    "\n",
    "SnP500_lr_r_obj = read_rds(INPUT_DIRECTORY)\n",
    "SnP500_lr_index_r_obj = SnP500_lr_r_obj['attributes']['index']['data']\n",
    "SnP500_lr_timestamp_index_r_obj = [datetime.utcfromtimestamp(i).strftime('%Y-%m-%d') for i in SnP500_lr_index_r_obj]\n",
    "SnP500_lr__data_r_obj = SnP500_lr_r_obj['data']\n",
    "df_SnP500_lr = pd.DataFrame(data={'Forecast': SnP500_lr__data_r_obj}, index=SnP500_lr_timestamp_index_r_obj)\n"
   ]
  },
  {
   "cell_type": "code",
   "execution_count": 3,
   "metadata": {},
   "outputs": [],
   "source": [
    "OUTPUT_DIRECTORY = './output'\n",
    "FORECASTS_BC_SA = {}\n",
    "\n",
    "for file in os.listdir(OUTPUT_DIRECTORY):\n",
    "    if not file.startswith('.'):\n",
    "                    \n",
    "        all_forecasts = []\n",
    "        for file_in_dir in os.listdir(os.path.join(OUTPUT_DIRECTORY, file)):\n",
    "            if not file_in_dir.startswith('.'):\n",
    "\n",
    "                path = os.path.join(OUTPUT_DIRECTORY, file, file_in_dir)\n",
    "                r_obj = read_rds(path)\n",
    "\n",
    "                index_r_obj = r_obj['attributes']['index']['data']\n",
    "                timestamp_index_r_obj = [datetime.utcfromtimestamp(i).strftime('%Y-%m-%d') for i in index_r_obj]\n",
    "                data_r_obj = r_obj['data']\n",
    "\n",
    "                df_forecast = pd.DataFrame(data={'Forecast': data_r_obj}, index=timestamp_index_r_obj)\n",
    "                all_forecasts.append(df_forecast)\n",
    "        \n",
    "        df_all_forecasts = pd.concat(all_forecasts).sort_index()\n",
    "        FORECASTS_BC_SA[file] = df_all_forecasts"
   ]
  },
  {
   "cell_type": "code",
   "execution_count": 4,
   "metadata": {},
   "outputs": [
    {
     "data": {
      "text/plain": [
       "dict_keys(['arima_base_case', 'arima-egarch_ged_1000', 'arima-garch_base_case'])"
      ]
     },
     "execution_count": 4,
     "metadata": {},
     "output_type": "execute_result"
    }
   ],
   "source": [
    "FORECASTS_BC_SA.keys()"
   ]
  },
  {
   "cell_type": "markdown",
   "metadata": {},
   "source": [
    "### Case 1: ARIMA(p,1,q) 1000 and ARIMA(p,1,q)-SGARCH(1,1) 1000 (Base Case)"
   ]
  },
  {
   "cell_type": "code",
   "execution_count": 5,
   "metadata": {},
   "outputs": [],
   "source": [
    "case_1 = ['arima_base_case', 'arima-garch_base_case']\n",
    "df_case_strat_case_1, case_1 = cases_df(FORECASTS_BC_SA, df_SnP500_lr, case_1)"
   ]
  },
  {
   "cell_type": "code",
   "execution_count": 6,
   "metadata": {},
   "outputs": [
    {
     "data": {
      "text/html": [
       "<div>\n",
       "<style scoped>\n",
       "    .dataframe tbody tr th:only-of-type {\n",
       "        vertical-align: middle;\n",
       "    }\n",
       "\n",
       "    .dataframe tbody tr th {\n",
       "        vertical-align: top;\n",
       "    }\n",
       "\n",
       "    .dataframe thead th {\n",
       "        text-align: right;\n",
       "    }\n",
       "</style>\n",
       "<table border=\"1\" class=\"dataframe\">\n",
       "  <thead>\n",
       "    <tr style=\"text-align: right;\">\n",
       "      <th></th>\n",
       "      <th></th>\n",
       "      <th>MAE</th>\n",
       "      <th>MSE</th>\n",
       "      <th>RMSE</th>\n",
       "      <th>MAPE</th>\n",
       "      <th>ARC(%)</th>\n",
       "      <th>ASD(%)</th>\n",
       "      <th>MD</th>\n",
       "      <th>IR*(%)</th>\n",
       "      <th>IR**(%)</th>\n",
       "    </tr>\n",
       "  </thead>\n",
       "  <tbody>\n",
       "    <tr>\n",
       "      <th></th>\n",
       "      <td>S&amp;P 500</td>\n",
       "      <td>NaN</td>\n",
       "      <td>NaN</td>\n",
       "      <td>NaN</td>\n",
       "      <td>NaN</td>\n",
       "      <td>6.48</td>\n",
       "      <td>18.77</td>\n",
       "      <td>55.76</td>\n",
       "      <td>34.52</td>\n",
       "      <td>4.01</td>\n",
       "    </tr>\n",
       "    <tr>\n",
       "      <th></th>\n",
       "      <td>arima_base_case</td>\n",
       "      <td>1.000000e-02</td>\n",
       "      <td>0.000000e+00</td>\n",
       "      <td>1.000000e-02</td>\n",
       "      <td>inf</td>\n",
       "      <td>-4.61</td>\n",
       "      <td>14.17</td>\n",
       "      <td>58.66</td>\n",
       "      <td>-32.51</td>\n",
       "      <td>-2.55</td>\n",
       "    </tr>\n",
       "    <tr>\n",
       "      <th></th>\n",
       "      <td>arima-garch_base_case</td>\n",
       "      <td>2.114594e+138</td>\n",
       "      <td>1.542223e+280</td>\n",
       "      <td>1.241863e+140</td>\n",
       "      <td>inf</td>\n",
       "      <td>-0.36</td>\n",
       "      <td>10.66</td>\n",
       "      <td>42.37</td>\n",
       "      <td>-3.42</td>\n",
       "      <td>-0.03</td>\n",
       "    </tr>\n",
       "  </tbody>\n",
       "</table>\n",
       "</div>"
      ],
      "text/plain": [
       "                                   MAE            MSE           RMSE  MAPE  \\\n",
       "                S&P 500            NaN            NaN            NaN   NaN   \n",
       "        arima_base_case   1.000000e-02   0.000000e+00   1.000000e-02   inf   \n",
       "  arima-garch_base_case  2.114594e+138  1.542223e+280  1.241863e+140   inf   \n",
       "\n",
       "  ARC(%)  ASD(%)     MD  IR*(%)  IR**(%)  \n",
       "    6.48   18.77  55.76   34.52     4.01  \n",
       "   -4.61   14.17  58.66  -32.51    -2.55  \n",
       "   -0.36   10.66  42.37   -3.42    -0.03  "
      ]
     },
     "execution_count": 6,
     "metadata": {},
     "output_type": "execute_result"
    }
   ],
   "source": [
    "performance_metrics_case_1(case_1[0], case_1[1], df_case_strat_case_1, case_1)"
   ]
  },
  {
   "cell_type": "markdown",
   "metadata": {},
   "source": [
    "### Case 2: ARIMA(p,1,q) 1000 and ARIMA(p,1,q)-SGARCH(1,1) 1000 and ARIMA(p,1,q)-EGARCH(1,1) 1000"
   ]
  },
  {
   "cell_type": "code",
   "execution_count": 7,
   "metadata": {},
   "outputs": [],
   "source": [
    "case_2 = ['arima_base_case', 'arima-garch_base_case', 'arima-egarch_ged_1000']\n",
    "df_case_strat_case_2, case_2 = cases_df(FORECASTS_BC_SA, df_SnP500_lr, case_2)"
   ]
  },
  {
   "cell_type": "code",
   "execution_count": 8,
   "metadata": {},
   "outputs": [
    {
     "data": {
      "text/html": [
       "<div>\n",
       "<style scoped>\n",
       "    .dataframe tbody tr th:only-of-type {\n",
       "        vertical-align: middle;\n",
       "    }\n",
       "\n",
       "    .dataframe tbody tr th {\n",
       "        vertical-align: top;\n",
       "    }\n",
       "\n",
       "    .dataframe thead th {\n",
       "        text-align: right;\n",
       "    }\n",
       "</style>\n",
       "<table border=\"1\" class=\"dataframe\">\n",
       "  <thead>\n",
       "    <tr style=\"text-align: right;\">\n",
       "      <th></th>\n",
       "      <th></th>\n",
       "      <th>MAE</th>\n",
       "      <th>MSE</th>\n",
       "      <th>RMSE</th>\n",
       "      <th>MAPE</th>\n",
       "      <th>ARC(%)</th>\n",
       "      <th>ASD(%)</th>\n",
       "      <th>MD</th>\n",
       "      <th>IR*(%)</th>\n",
       "      <th>IR**(%)</th>\n",
       "    </tr>\n",
       "  </thead>\n",
       "  <tbody>\n",
       "    <tr>\n",
       "      <th></th>\n",
       "      <td>S&amp;P 500</td>\n",
       "      <td>NaN</td>\n",
       "      <td>NaN</td>\n",
       "      <td>NaN</td>\n",
       "      <td>NaN</td>\n",
       "      <td>7.15</td>\n",
       "      <td>19.11</td>\n",
       "      <td>56.78</td>\n",
       "      <td>37.40</td>\n",
       "      <td>4.71</td>\n",
       "    </tr>\n",
       "    <tr>\n",
       "      <th></th>\n",
       "      <td>arima_base_case</td>\n",
       "      <td>1.000000e-02</td>\n",
       "      <td>0.000000e+00</td>\n",
       "      <td>1.000000e-02</td>\n",
       "      <td>inf</td>\n",
       "      <td>-4.61</td>\n",
       "      <td>14.17</td>\n",
       "      <td>58.66</td>\n",
       "      <td>-32.51</td>\n",
       "      <td>-2.55</td>\n",
       "    </tr>\n",
       "    <tr>\n",
       "      <th></th>\n",
       "      <td>arima-garch_base_case</td>\n",
       "      <td>2.114594e+138</td>\n",
       "      <td>1.542223e+280</td>\n",
       "      <td>1.241863e+140</td>\n",
       "      <td>inf</td>\n",
       "      <td>-0.36</td>\n",
       "      <td>10.66</td>\n",
       "      <td>42.37</td>\n",
       "      <td>-3.42</td>\n",
       "      <td>-0.03</td>\n",
       "    </tr>\n",
       "    <tr>\n",
       "      <th></th>\n",
       "      <td>arima-egarch_ged_1000</td>\n",
       "      <td>1.000000e-02</td>\n",
       "      <td>0.000000e+00</td>\n",
       "      <td>1.000000e-02</td>\n",
       "      <td>inf</td>\n",
       "      <td>1.99</td>\n",
       "      <td>12.75</td>\n",
       "      <td>31.37</td>\n",
       "      <td>15.61</td>\n",
       "      <td>0.99</td>\n",
       "    </tr>\n",
       "  </tbody>\n",
       "</table>\n",
       "</div>"
      ],
      "text/plain": [
       "                                   MAE            MSE           RMSE  MAPE  \\\n",
       "                S&P 500            NaN            NaN            NaN   NaN   \n",
       "        arima_base_case   1.000000e-02   0.000000e+00   1.000000e-02   inf   \n",
       "  arima-garch_base_case  2.114594e+138  1.542223e+280  1.241863e+140   inf   \n",
       "  arima-egarch_ged_1000   1.000000e-02   0.000000e+00   1.000000e-02   inf   \n",
       "\n",
       "  ARC(%)  ASD(%)     MD  IR*(%)  IR**(%)  \n",
       "    7.15   19.11  56.78   37.40     4.71  \n",
       "   -4.61   14.17  58.66  -32.51    -2.55  \n",
       "   -0.36   10.66  42.37   -3.42    -0.03  \n",
       "    1.99   12.75  31.37   15.61     0.99  "
      ]
     },
     "execution_count": 8,
     "metadata": {},
     "output_type": "execute_result"
    }
   ],
   "source": [
    "performance_metrics_case_2(case_2[0], case_2[1], case_2[2], df_case_strat_case_2, case_2)"
   ]
  },
  {
   "cell_type": "markdown",
   "metadata": {},
   "source": [
    "### Case 3: ARIMA(p,1,q) 500 and ARIMA(p,1,q)-SGARCH(1,1) 500 / ARIMA(p,1,q) 1000 and ARIMA(p,1,q)-SGARCH(1,1) 1000 / ARIMA(p,1,q) 1500 and ARIMA(p,1,q)-SGARCH(1,1) 1500"
   ]
  },
  {
   "cell_type": "code",
   "execution_count": 9,
   "metadata": {},
   "outputs": [],
   "source": [
    "case_3 = ['arima_base_case', 'arima-garch_base_case', 'arima-egarch_ged_1000']"
   ]
  },
  {
   "cell_type": "markdown",
   "metadata": {},
   "source": [
    "### Case 4: ARIMA 1000 and SGARCH.GED 1000 and SGARCH.SNORM 1000 and SGARCH.SSTD 1000 and SGARCH.SGED 1000"
   ]
  },
  {
   "cell_type": "code",
   "execution_count": 10,
   "metadata": {},
   "outputs": [],
   "source": [
    "case_4 = ['arima_base_case', 'arima-garch_base_case', 'arima-egarch_ged_1000']"
   ]
  },
  {
   "cell_type": "code",
   "execution_count": 11,
   "metadata": {},
   "outputs": [],
   "source": [
    "# In general, the rule for going long (buy) or short (sell) is as follows: \n",
    "# if the forecasted log return is positive at time t + 1, we go long (buy stocks) at time t (direction would be +1); \n",
    "# if the forecasted log return is negative at time t + 1, we go short (sell stocks) at time t (direction would be −1); \n",
    "# and if the forecasted direction at time t+1 is the same as at time t, then there are no changes.\n",
    "\n",
    "# The initial investment is assumed to be $1259.92 at the beginning."
   ]
  },
  {
   "cell_type": "code",
   "execution_count": 12,
   "metadata": {},
   "outputs": [],
   "source": [
    "# Add cases\n",
    "# Check why strange results\n",
    "# Add R ggplot graph code"
   ]
  }
 ],
 "metadata": {
  "kernelspec": {
   "display_name": "Algo_ml_in_finance_1",
   "language": "python",
   "name": "python3"
  },
  "language_info": {
   "codemirror_mode": {
    "name": "ipython",
    "version": 3
   },
   "file_extension": ".py",
   "mimetype": "text/x-python",
   "name": "python",
   "nbconvert_exporter": "python",
   "pygments_lexer": "ipython3",
   "version": "3.10.14"
  }
 },
 "nbformat": 4,
 "nbformat_minor": 2
}
